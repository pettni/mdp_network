{
 "cells": [
  {
   "cell_type": "markdown",
   "metadata": {},
   "source": [
    "# LTI Map Abstraction example\n",
    "A smaller version of the `adhs18` example that demonstrates similar features: \n",
    " - abstraction of a LTI Gaussian system\n",
    " - interconnected MDPs for exploration\n",
    " - LTL synthesis"
   ]
  },
  {
   "cell_type": "code",
   "execution_count": 1,
   "metadata": {},
   "outputs": [
    {
     "name": "stderr",
     "output_type": "stream",
     "text": [
      "`polytope` failed to import `cvxopt.glpk`.\n",
      "will use `scipy.optimize.linprog`\n"
     ]
    }
   ],
   "source": [
    "import numpy as np\n",
    "import polytope as pc\n",
    "from itertools import combinations\n",
    "from collections import OrderedDict\n",
    "\n",
    "import matplotlib.pyplot as plt\n",
    "from matplotlib import patches\n",
    "\n",
    "from best.abstraction.gridding import LTIAbstraction\n",
    "from best.models.pomdp import POMDP, POMDPNetwork\n",
    "from best.models.lti import LTI\n",
    "from best.solvers.valiter import solve_ltl_cosafe\n",
    "\n",
    "# Define the linear time invariant system\n",
    "A = np.eye(2)\n",
    "B = np.eye(2)\n",
    "W = np.array([[0,0],[0,0.4]]) #2*Tr.dot(np.eye(dim)).dot(Tr)  # noise on transitions\n",
    " \n",
    "# Accuracy\n",
    "C = np.array([[1, 0],[0,1]])  # defines metric for error (||y_finite-y||< epsilon with y= cx   )\n",
    "\n",
    "sys_lti = LTI(A, B, C, None, W=W)  # LTI system with   D = None\n",
    "sys_lti.setU(pc.box2poly(np.kron(np.ones((sys_lti.m, 1)), np.array([[-1, 1]])))) # continuous set of inputs\n",
    "sys_lti.setX(pc.box2poly(np.kron(np.ones((sys_lti.dim, 1)), np.array([[-10, 10]])))) # X space\n",
    "\n",
    "# How far away do we detect labels\n",
    "sight_distance = 2\n",
    "\n",
    "# Abstraction coarseness\n",
    "eta = np.array([0.69294, 0.721])"
   ]
  },
  {
   "cell_type": "code",
   "execution_count": 2,
   "metadata": {},
   "outputs": [],
   "source": [
    "# Define regions of interest for the labeling\n",
    "regions = OrderedDict()\n",
    "regions['target1'] = pc.box2poly(np.array([[-9, -6], [6, 9]]))\n",
    "regions['target2'] = pc.box2poly(np.array([[6, 9], [6, 9]]))\n",
    "regions['obstacle1'] = pc.box2poly(np.array([[0, 2], [-5, 2]]))\n",
    "regions['obstacle2'] = pc.box2poly(np.array([[0, 2], [3, 10]]))\n",
    "\n",
    "def close(poly, point, distance):\n",
    "    # returns true if point within distance of poly\n",
    "    if point is None:\n",
    "        return False\n",
    "    return np.all(poly.A.dot(point.flatten()) < poly.b + distance)"
   ]
  },
  {
   "cell_type": "markdown",
   "metadata": {},
   "source": [
    "### Construct map MDPs"
   ]
  },
  {
   "cell_type": "code",
   "execution_count": 3,
   "metadata": {},
   "outputs": [],
   "source": [
    "# label prior probabilities\n",
    "p_list = [0.5, 0.6, 0.1, 0.3]\n",
    "\n",
    "target_output = lambda n: ['init', 'true', 'false'][n]\n",
    "\n",
    "map_mdp_list = [POMDP([np.eye(3), np.array([[0,p,1-p], [0,1,0], [0,0,1]])], \n",
    "                  input_names=['meas{}'.format(i)],\n",
    "                  output_trans=target_output,\n",
    "                  state_name='label{}'.format(i))\n",
    "                for (i, p) in enumerate(p_list)]"
   ]
  },
  {
   "cell_type": "markdown",
   "metadata": {},
   "source": [
    "### Construct abstraction"
   ]
  },
  {
   "cell_type": "code",
   "execution_count": 4,
   "metadata": {},
   "outputs": [
    {
     "name": "stdout",
     "output_type": "stream",
     "text": [
      "status: optimal\n",
      "optimal epsilon 1.0000147592332758\n",
      "optimal M [[1. 0.]\n",
      " [0. 1.]]\n",
      "Optimal K [[-0.  0.]\n",
      " [ 0.  0.]]\n",
      "MDP: (9,) inputs ('u_d',) --> 813 states s --> 813 outputs (s,xc)\n",
      "nnz: 157295, sparsity: 0.026441818333722493\n"
     ]
    },
    {
     "data": {
      "image/png": "[encoded data removed]",
      "text/plain": [
       "<Figure size 432x288 with 1 Axes>"
      ]
     },
     "metadata": {},
     "output_type": "display_data"
    }
   ],
   "source": [
    "sys_lti_n = sys_lti.normalize()\n",
    "\n",
    "abstr = LTIAbstraction(sys_lti_n, eta, un=3)\n",
    "\n",
    "fig = plt.figure()\n",
    "ax0 = fig.add_subplot(111)\n",
    "abstr.plot(ax0)\n",
    "\n",
    "# plot regions\n",
    "for poly in regions.values():\n",
    "    V = pc.extreme(poly)\n",
    "    ax0.add_patch(patches.Polygon(V))\n",
    "\n",
    "print (abstr.mdp)\n",
    "print ('nnz: {}, sparsity: {}'.format(abstr.mdp.nnz, abstr.mdp.sparsity))"
   ]
  },
  {
   "cell_type": "markdown",
   "metadata": {},
   "source": [
    "### Connect abstraction and map"
   ]
  },
  {
   "cell_type": "code",
   "execution_count": 5,
   "metadata": {},
   "outputs": [
    {
     "data": {
      "image/png": "[encoded data removed]",
      "text/plain": [
       "<Figure size 432x288 with 1 Axes>"
      ]
     },
     "metadata": {},
     "output_type": "display_data"
    }
   ],
   "source": [
    "# mapping (s, x_d) -> 2^2^(meas1, meas2, meas3)\n",
    "network = POMDPNetwork([abstr.mdp] + map_mdp_list)\n",
    "\n",
    "network.add_connection(['(s,xc)'], 'meas0', lambda s_xc: {close(regions['target1'], s_xc[1], sight_distance)}  )\n",
    "network.add_connection(['(s,xc)'], 'meas1', lambda s_xc: {close(regions['target2'], s_xc[1], sight_distance)} )\n",
    "network.add_connection(['(s,xc)'], 'meas2', lambda s_xc: {close(regions['obstacle1'], s_xc[1], sight_distance)} )\n",
    "network.add_connection(['(s,xc)'], 'meas3', lambda s_xc: {close(regions['obstacle2'], s_xc[1], sight_distance)} )\n",
    "\n",
    "network.plot()"
   ]
  },
  {
   "cell_type": "markdown",
   "metadata": {},
   "source": [
    "### Set up and solve LTL problem"
   ]
  },
  {
   "cell_type": "code",
   "execution_count": 6,
   "metadata": {},
   "outputs": [
    {
     "name": "stdout",
     "output_type": "stream",
     "text": [
      "finished after 5.43s and 72 iterations\n"
     ]
    }
   ],
   "source": [
    "formula = '! obstacle U sample'\n",
    "\n",
    "def sample_predicate(s_xc, lbl_t1, lbl_t2):\n",
    "    if s_xc[1] is None or np.any(np.abs(s_xc[1]) > 10):\n",
    "        return {0}    \n",
    "    cond1 = all(abstr.polytopic_predicate(s_xc[1], regions['target1'])) and lbl_t1 == 'true'\n",
    "    cond2 = all(abstr.polytopic_predicate(s_xc[1], regions['target2'])) and lbl_t2 == 'true'\n",
    "\n",
    "    return {cond1 or cond2}\n",
    "    \n",
    "def obstacle_predicate(s_xc, lbl_o1, lbl_o2):\n",
    "    if s_xc[1] is None or np.any(np.abs(s_xc[1]) > 10):\n",
    "        return {1}\n",
    "    cond1 = any(abstr.polytopic_predicate(s_xc[1], regions['obstacle1'])) and lbl_o1 == 'true'\n",
    "    cond2 = any(abstr.polytopic_predicate(s_xc[1], regions['obstacle2'])) and lbl_o2 == 'true'\n",
    "\n",
    "    return {cond1 or cond2}\n",
    "\n",
    "predicates = {'sample': (['(s,xc)', 'label0', 'label1'], sample_predicate),\n",
    "              'obstacle': (['(s,xc)', 'label2', 'label3'],obstacle_predicate)}\n",
    "\n",
    "pol = solve_ltl_cosafe(network, formula, predicates, delta=0.01)"
   ]
  },
  {
   "cell_type": "markdown",
   "metadata": {},
   "source": [
    "### Define policy"
   ]
  },
  {
   "cell_type": "code",
   "execution_count": 7,
   "metadata": {},
   "outputs": [],
   "source": [
    "# define a policy on top of mdp policy\n",
    "def my_policy(x, mapstate):\n",
    "    # x: current concrete state [x; y]\n",
    "    x = np.array(x).reshape((2,1))\n",
    "    \n",
    "    lbl_t1 = mapstate[0]\n",
    "    lbl_t2 = mapstate[1]\n",
    "    lbl_ob1 = mapstate[2]\n",
    "    lbl_ob2 = mapstate[3]\n",
    "\n",
    "    aps = []\n",
    "    \n",
    "    if regions['target1'].contains(x) and lbl_t1 == 1 or \\\n",
    "       regions['target2'].contains(x) and lbl_t2 == 1:\n",
    "        # we are in target region and a sample exists\n",
    "        aps.append('sample')\n",
    "        \n",
    "    if regions['obstacle1'].contains(x) and lbl_ob1 == 1 or \\\n",
    "       regions['obstacle2'].contains(x) and lbl_ob2 == 1:\n",
    "        # we are in obstacle region and not sure that there is no obstacle\n",
    "        aps.append('obstacle')\n",
    "        \n",
    "    pol.report_aps(aps)\n",
    "    \n",
    "    s_ab = abstr.x_to_s(x)\n",
    "            \n",
    "    u_ab, curr_val = pol((s_ab,) + tuple(mapstate) )\n",
    "    \n",
    "    if curr_val > 0 and u_ab != -1:\n",
    "        return abstr.interface(u_ab, s_ab, x)\n",
    "    else:\n",
    "        return np.array([[0], [0]])\n",
    "\n",
    "def my_value(x):    \n",
    "    s_ab = abstr.x_to_s(x)\n",
    "    \n",
    "    if s_ab is None:\n",
    "        return 0\n",
    "\n",
    "    _, val = pol((s_ab, 0, 0, 0, 0))\n",
    "    return val\n",
    "\n",
    "def my_policy_init(x):\n",
    "    u = my_policy(x, (0,0,0,0))\n",
    "    pol.reset()\n",
    "    return u\n",
    "\n",
    "pol.reset()"
   ]
  },
  {
   "cell_type": "markdown",
   "metadata": {},
   "source": [
    "### Plot value function"
   ]
  },
  {
   "cell_type": "code",
   "execution_count": 8,
   "metadata": {},
   "outputs": [
    {
     "data": {
      "image/png": "[encoded data removed]",
      "text/plain": [
       "<Figure size 432x288 with 2 Axes>"
      ]
     },
     "metadata": {},
     "output_type": "display_data"
    }
   ],
   "source": [
    "fig = plt.figure()\n",
    "x_edge = np.linspace(-15,15,50)\n",
    "x_del = np.diff(x_edge).max()\n",
    "y_edge = np.linspace(-15,15,50)\n",
    "y_del = np.diff(y_edge).max()\n",
    "\n",
    "xi, yi = np.meshgrid(x_edge[:-1]+x_del/2,y_edge[:-1]+y_del/2)\n",
    "xi = xi.flatten()\n",
    "yi = yi.flatten()\n",
    "\n",
    "values = np.array([my_value( np.array([x,y])) for (x,y) in zip(xi, yi)])\n",
    "\n",
    "plt.pcolor(x_edge, y_edge, values.reshape((49,49)))\n",
    "plt.colorbar()\n",
    "plt.xlim(np.array([-15,15]))\n",
    "plt.ylim(np.array([-15,15]))\n",
    "plt.show()"
   ]
  },
  {
   "cell_type": "markdown",
   "metadata": {},
   "source": [
    "### Run a simulation"
   ]
  },
  {
   "cell_type": "code",
   "execution_count": 9,
   "metadata": {},
   "outputs": [
    {
     "name": "stdout",
     "output_type": "stream",
     "text": [
      "reached\n",
      "reached\n",
      "reached\n",
      "reached\n",
      "reached\n",
      "reached\n"
     ]
    },
    {
     "data": {
      "image/png": "[encoded data removed]",
      "text/plain": [
       "<Figure size 432x288 with 1 Axes>"
      ]
     },
     "metadata": {},
     "output_type": "display_data"
    }
   ],
   "source": [
    "import scipy.linalg as scla\n",
    "import matplotlib\n",
    "\n",
    "np.random.seed(4)\n",
    "\n",
    "time = 70\n",
    "fig = plt.figure()\n",
    "ax = fig.add_subplot(111)\n",
    "\n",
    "# plot regions\n",
    "for poly in regions.values():\n",
    "    V = pc.extreme(poly)\n",
    "    ax.add_patch(matplotlib.patches.Polygon(V))\n",
    "    \n",
    "realmap = [1, 2, 1, 2]   # true map state\n",
    "\n",
    "Wsqrt = scla.sqrtm(sys_lti.W)\n",
    "for xinit in range(-10, 11, 4):\n",
    "    pol.reset()\n",
    "    mapstate = [0, 0, 0, 0]\n",
    "    xx = np.array([[xinit],[-9]])\n",
    "\n",
    "    for t in range(time): \n",
    "        # current state\n",
    "        xt = np.array(xx[:,-1]).reshape(2,1)\n",
    "        # reveal map if within distance\n",
    "        for i, poly in enumerate(regions.values()):\n",
    "            if close(poly, xt, sight_distance):\n",
    "                mapstate[i] = realmap[i]\n",
    "        # next state\n",
    "        ut = my_policy(xt, mapstate)\n",
    "        wt = np.random.normal(0,1,size=(2,1))\n",
    "        # update state\n",
    "        xt1 = sys_lti.a.dot(xt)+sys_lti.b.dot(ut) + np.array(Wsqrt).dot(wt)\n",
    "\n",
    "        xx = np.hstack([xx, xt1])\n",
    "\n",
    "        if pol.finished() :\n",
    "            print('reached')\n",
    "            break\n",
    "\n",
    "    if not pol.finished():\n",
    "        print('not reached')\n",
    "\n",
    "    plt.plot(xx[0,:], xx[1,:])\n",
    "    plt.scatter(xx[0,:], xx[1,:], label='Finite states', color='k', s=10, marker=\"o\")\n",
    "\n",
    "plt.xlim(np.array([-15,15]))\n",
    "plt.ylim(np.array([-15,15]))\n",
    "\n",
    "plt.xlabel('x_1') \n",
    "plt.ylabel('x_2') \n",
    "plt.show()"
   ]
  }
 ],
 "metadata": {
  "kernelspec": {
   "display_name": "Python 3",
   "language": "python",
   "name": "python3"
  },
  "language_info": {
   "codemirror_mode": {
    "name": "ipython",
    "version": 3
   },
   "file_extension": ".py",
   "mimetype": "text/x-python",
   "name": "python",
   "nbconvert_exporter": "python",
   "pygments_lexer": "ipython3",
   "version": "3.6.3"
  }
 },
 "nbformat": 4,
 "nbformat_minor": 2
}
